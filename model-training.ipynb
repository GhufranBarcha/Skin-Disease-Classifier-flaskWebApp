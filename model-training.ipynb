{
  "cells": [
    {
      "cell_type": "markdown",
      "metadata": {
        "id": "M4BAUboO19H4"
      },
      "source": [
        "# Navttc Final Project\n",
        "## 1. Project:\n",
        "      - We are going to train a model which will detect several skin disease\n",
        "        based on image which will be beneficial to people who have no access to treatment or lives in places where they can't afford the pay for the treatment.\n",
        "\n",
        "## 2. Dataset:\n",
        "      - The Dataset which will be used to classify images will be used\n",
        "      **bold text** from  Kaggle dataset which occupy 2GB space.\n"
      ]
    },
    {
      "cell_type": "markdown",
      "metadata": {
        "id": "B8UX-JQL2sLh"
      },
      "source": [
        "### Unzip the archeive in GOOGle Drive"
      ]
    },
    {
      "cell_type": "code",
      "execution_count": null,
      "metadata": {
        "id": "Tn5roEdQ5EAB"
      },
      "outputs": [],
      "source": [
        "## Unzip the dataset in Google Drive first\n",
        "# !unzip \"/content/drive/MyDrive/Colab Notebooks/Navttc Final Project/Datasets/archive (3).zip\" -d \"/content/drive/MyDrive/Colab Notebooks/Navttc Final Project/Datasets\""
      ]
    },
    {
      "cell_type": "code",
      "execution_count": null,
      "metadata": {
        "colab": {
          "base_uri": "https://localhost:8080/",
          "height": 36
        },
        "id": "7xoBtkkW5EP9",
        "outputId": "dde49698-b01c-4b0f-fb16-d81e815260d9"
      },
      "outputs": [
        {
          "output_type": "execute_result",
          "data": {
            "text/plain": [
              "'2.12.0'"
            ],
            "application/vnd.google.colaboratory.intrinsic+json": {
              "type": "string"
            }
          },
          "metadata": {},
          "execution_count": 1
        }
      ],
      "source": [
        "# Import Necessary libraries\n",
        "import os\n",
        "import cv2\n",
        "import pickle\n",
        "import numpy as np\n",
        "import matplotlib.pyplot as plt\n",
        "from sklearn.metrics import confusion_matrix ,accuracy_score,classification_report\n",
        "import pickle\n",
        "import joblib\n",
        "import keras\n",
        "joblib.__version__\n",
        "keras.__version__"
      ]
    },
    {
      "cell_type": "code",
      "execution_count": null,
      "metadata": {
        "colab": {
          "base_uri": "https://localhost:8080/"
        },
        "id": "p_v1-TmSRchx",
        "outputId": "3f556737-b5c7-4dd4-95ce-f85e5c294285"
      },
      "outputs": [
        {
          "name": "stdout",
          "output_type": "stream",
          "text": [
            "['/content/drive/MyDrive/Colab Notebooks/Navttc Final Project/Datasets/train/Acne and Rosacea Photos', '/content/drive/MyDrive/Colab Notebooks/Navttc Final Project/Datasets/train/Actinic Keratosis Basal Cell Carcinoma and other Malignant Lesions', '/content/drive/MyDrive/Colab Notebooks/Navttc Final Project/Datasets/train/Atopic Dermatitis Photos']\n"
          ]
        }
      ],
      "source": [
        "## Make the path for train folders\n",
        "\n",
        "folder = os.listdir(\"/content/drive/MyDrive/Colab Notebooks/Navttc Final Project/Datasets/train\")\n",
        "folder_path = [\"/content/drive/MyDrive/Colab Notebooks/Navttc Final Project/Datasets/train/\"+path for path in folder]\n",
        "folder_path = folder_path[0:3]\n",
        "print(folder_path)\n",
        "\n",
        "dataset=[]\n",
        "y_label=[]\n",
        "\n",
        "for i in folder_path:\n",
        "    Disease_name=os.path.basename(i)\n",
        "    for files in os.listdir(i):\n",
        "        image_path=os.path.join(i,files)\n",
        "        if os.path.isfile(image_path):\n",
        "            image = cv2.imread(image_path,cv2.IMREAD_UNCHANGED)\n",
        "            if image is not None:\n",
        "                resized_image = cv2.resize(image, (224,224))\n",
        "                dataset.append(resized_image/10)\n",
        "                y_label.append(Disease_name)\n",
        "\n",
        "X=np.array(dataset)\n",
        "\n",
        "# Specify the filename where you want to save the data\n",
        "\n",
        "\n",
        "with open('/content/drive/MyDrive/Colab Notebooks/Navttc Final Project/Datasets/X_trainData.pickle', 'wb') as f:\n",
        "    pickle.dump((X,y_label), f)\n"
      ]
    },
    {
      "cell_type": "code",
      "execution_count": null,
      "metadata": {
        "colab": {
          "base_uri": "https://localhost:8080/"
        },
        "id": "_Jjwvh5vxesd",
        "outputId": "861f9b03-b8b9-4e1c-9b9e-7284485ad2dd"
      },
      "outputs": [
        {
          "name": "stdout",
          "output_type": "stream",
          "text": [
            "['/content/drive/MyDrive/Colab Notebooks/Navttc Final Project/Datasets/test/Acne and Rosacea Photos', '/content/drive/MyDrive/Colab Notebooks/Navttc Final Project/Datasets/test/Actinic Keratosis Basal Cell Carcinoma and other Malignant Lesions', '/content/drive/MyDrive/Colab Notebooks/Navttc Final Project/Datasets/test/Atopic Dermatitis Photos']\n"
          ]
        }
      ],
      "source": [
        "## Make path for test data and import test data\n",
        "\n",
        "folder_test = os.listdir(\"/content/drive/MyDrive/Colab Notebooks/Navttc Final Project/Datasets/test\")\n",
        "folder_test = [\"/content/drive/MyDrive/Colab Notebooks/Navttc Final Project/Datasets/test/\"+path for path in folder]\n",
        "folder_test = folder_test[0:3]\n",
        "print(folder_test)\n",
        "\n",
        "dataset_test=[]\n",
        "y_label_test=[]\n",
        "\n",
        "for i in folder_test:\n",
        "    Disease_name=os.path.basename(i)\n",
        "    for files in os.listdir(i):\n",
        "        image_path=os.path.join(i,files)\n",
        "        if os.path.isfile(image_path):\n",
        "            image = cv2.imread(image_path ,cv2.IMREAD_UNCHANGED)\n",
        "            if image is not None:\n",
        "                resized_image = cv2.resize(image, (224,224))\n",
        "                dataset_test.append(resized_image/10)\n",
        "                y_label_test.append(Disease_name)\n",
        "\n",
        "X_test=np.array(dataset_test)\n",
        "with open('/content/drive/MyDrive/Colab Notebooks/Navttc Final Project/Datasets/X_testData.pickle', 'wb') as f:\n",
        "    pickle.dump((X_test,y_label_test), f)"
      ]
    },
    {
      "cell_type": "code",
      "execution_count": null,
      "metadata": {
        "id": "VbheDzWEGvFp"
      },
      "outputs": [],
      "source": [
        "# Import pickle data\n",
        "with open('/content/drive/MyDrive/Colab Notebooks/Navttc Final Project/Datasets/X_trainData.pickle', 'rb') as file:\n",
        "  X,y_label=pickle.load(file)\n",
        "\n",
        "with open('/content/drive/MyDrive/Colab Notebooks/Navttc Final Project/Datasets/X_testData.pickle', 'rb') as file:\n",
        "  X_test,y_label_test=pickle.load(file)"
      ]
    },
    {
      "cell_type": "code",
      "execution_count": null,
      "metadata": {
        "id": "B5LYo9NxQg8K"
      },
      "outputs": [],
      "source": [
        "X.shape ,len(y_label)"
      ]
    },
    {
      "cell_type": "code",
      "execution_count": null,
      "metadata": {
        "id": "txpFyehYQhDT"
      },
      "outputs": [],
      "source": []
    },
    {
      "cell_type": "code",
      "execution_count": null,
      "metadata": {
        "colab": {
          "base_uri": "https://localhost:8080/"
        },
        "id": "a-6nWXBqRDdb",
        "outputId": "1d13d30e-7926-43b2-c089-a1b8b6be7f9a"
      },
      "outputs": [
        {
          "output_type": "stream",
          "name": "stdout",
          "text": [
            "['Acne and Rosacea Photos'\n",
            " 'Actinic Keratosis Basal Cell Carcinoma and other Malignant Lesions'\n",
            " 'Atopic Dermatitis Photos']\n",
            "['Acne and Rosacea Photos'\n",
            " 'Actinic Keratosis Basal Cell Carcinoma and other Malignant Lesions'\n",
            " 'Atopic Dermatitis Photos']\n"
          ]
        }
      ],
      "source": [
        "from sklearn.preprocessing import LabelEncoder\n",
        "lab=LabelEncoder()\n",
        "y1=lab.fit_transform(y_label)\n",
        "print(lab.classes_)\n",
        "\n",
        "lab2=LabelEncoder()\n",
        "y2_test=lab2.fit_transform(y_label_test)\n",
        "print(lab2.classes_)"
      ]
    },
    {
      "cell_type": "code",
      "execution_count": null,
      "metadata": {
        "id": "334-QjxXRDkA"
      },
      "outputs": [],
      "source": []
    },
    {
      "cell_type": "code",
      "execution_count": null,
      "metadata": {
        "id": "_K5sJeTCRDr2"
      },
      "outputs": [],
      "source": []
    },
    {
      "cell_type": "code",
      "execution_count": null,
      "metadata": {
        "colab": {
          "base_uri": "https://localhost:8080/"
        },
        "id": "n6cjQWYHUaO0",
        "outputId": "7ee3a44e-aa7e-4416-fd18-85473d350b61"
      },
      "outputs": [
        {
          "output_type": "stream",
          "name": "stdout",
          "text": [
            "['Acne and Rosacea Photos', 'Acne and Rosacea Photos', 'Acne and Rosacea Photos', 'Acne and Rosacea Photos', 'Acne and Rosacea Photos', 'Acne and Rosacea Photos', 'Acne and Rosacea Photos', 'Acne and Rosacea Photos', 'Acne and Rosacea Photos', 'Acne and Rosacea Photos', 'Acne and Rosacea Photos', 'Acne and Rosacea Photos', 'Acne and Rosacea Photos', 'Acne and Rosacea Photos', 'Acne and Rosacea Photos', 'Acne and Rosacea Photos', 'Acne and Rosacea Photos', 'Acne and Rosacea Photos', 'Acne and Rosacea Photos', 'Acne and Rosacea Photos', 'Acne and Rosacea Photos', 'Acne and Rosacea Photos', 'Acne and Rosacea Photos', 'Acne and Rosacea Photos', 'Acne and Rosacea Photos', 'Acne and Rosacea Photos', 'Acne and Rosacea Photos', 'Acne and Rosacea Photos', 'Acne and Rosacea Photos', 'Acne and Rosacea Photos', 'Acne and Rosacea Photos', 'Acne and Rosacea Photos', 'Acne and Rosacea Photos', 'Acne and Rosacea Photos', 'Acne and Rosacea Photos', 'Acne and Rosacea Photos', 'Acne and Rosacea Photos', 'Acne and Rosacea Photos', 'Acne and Rosacea Photos', 'Acne and Rosacea Photos', 'Acne and Rosacea Photos', 'Acne and Rosacea Photos', 'Acne and Rosacea Photos', 'Acne and Rosacea Photos', 'Acne and Rosacea Photos', 'Acne and Rosacea Photos', 'Acne and Rosacea Photos', 'Acne and Rosacea Photos', 'Acne and Rosacea Photos', 'Acne and Rosacea Photos', 'Acne and Rosacea Photos', 'Acne and Rosacea Photos', 'Acne and Rosacea Photos', 'Acne and Rosacea Photos', 'Acne and Rosacea Photos', 'Acne and Rosacea Photos', 'Acne and Rosacea Photos', 'Acne and Rosacea Photos', 'Acne and Rosacea Photos', 'Acne and Rosacea Photos', 'Acne and Rosacea Photos', 'Acne and Rosacea Photos', 'Acne and Rosacea Photos', 'Acne and Rosacea Photos', 'Acne and Rosacea Photos', 'Acne and Rosacea Photos', 'Acne and Rosacea Photos', 'Acne and Rosacea Photos', 'Acne and Rosacea Photos', 'Acne and Rosacea Photos', 'Acne and Rosacea Photos', 'Acne and Rosacea Photos', 'Acne and Rosacea Photos', 'Acne and Rosacea Photos', 'Acne and Rosacea Photos', 'Acne and Rosacea Photos', 'Acne and Rosacea Photos', 'Acne and Rosacea Photos', 'Acne and Rosacea Photos', 'Acne and Rosacea Photos', 'Acne and Rosacea Photos', 'Acne and Rosacea Photos', 'Acne and Rosacea Photos', 'Acne and Rosacea Photos', 'Acne and Rosacea Photos', 'Acne and Rosacea Photos', 'Acne and Rosacea Photos', 'Acne and Rosacea Photos', 'Acne and Rosacea Photos', 'Acne and Rosacea Photos', 'Acne and Rosacea Photos', 'Acne and Rosacea Photos', 'Acne and Rosacea Photos', 'Acne and Rosacea Photos', 'Acne and Rosacea Photos', 'Acne and Rosacea Photos', 'Acne and Rosacea Photos', 'Acne and Rosacea Photos', 'Acne and Rosacea Photos', 'Acne and Rosacea Photos', 'Acne and Rosacea Photos', 'Acne and Rosacea Photos', 'Acne and Rosacea Photos', 'Acne and Rosacea Photos', 'Acne and Rosacea Photos', 'Acne and Rosacea Photos', 'Acne and Rosacea Photos', 'Acne and Rosacea Photos', 'Acne and Rosacea Photos', 'Acne and Rosacea Photos', 'Acne and Rosacea Photos', 'Acne and Rosacea Photos', 'Acne and Rosacea Photos', 'Acne and Rosacea Photos', 'Acne and Rosacea Photos', 'Acne and Rosacea Photos', 'Acne and Rosacea Photos', 'Acne and Rosacea Photos', 'Acne and Rosacea Photos', 'Acne and Rosacea Photos', 'Acne and Rosacea Photos', 'Acne and Rosacea Photos', 'Acne and Rosacea Photos', 'Acne and Rosacea Photos', 'Acne and Rosacea Photos', 'Acne and Rosacea Photos', 'Acne and Rosacea Photos', 'Acne and Rosacea Photos', 'Acne and Rosacea Photos', 'Acne and Rosacea Photos', 'Acne and Rosacea Photos', 'Acne and Rosacea Photos', 'Acne and Rosacea Photos', 'Acne and Rosacea Photos', 'Acne and Rosacea Photos', 'Acne and Rosacea Photos', 'Acne and Rosacea Photos', 'Acne and Rosacea Photos', 'Acne and Rosacea Photos', 'Acne and Rosacea Photos', 'Acne and Rosacea Photos', 'Acne and Rosacea Photos', 'Acne and Rosacea Photos', 'Acne and Rosacea Photos', 'Acne and Rosacea Photos', 'Acne and Rosacea Photos', 'Acne and Rosacea Photos', 'Acne and Rosacea Photos', 'Acne and Rosacea Photos', 'Acne and Rosacea Photos', 'Acne and Rosacea Photos', 'Acne and Rosacea Photos', 'Acne and Rosacea Photos', 'Acne and Rosacea Photos', 'Acne and Rosacea Photos', 'Acne and Rosacea Photos', 'Acne and Rosacea Photos', 'Acne and Rosacea Photos', 'Acne and Rosacea Photos', 'Acne and Rosacea Photos', 'Acne and Rosacea Photos', 'Acne and Rosacea Photos', 'Acne and Rosacea Photos', 'Acne and Rosacea Photos', 'Acne and Rosacea Photos', 'Acne and Rosacea Photos', 'Acne and Rosacea Photos', 'Acne and Rosacea Photos', 'Acne and Rosacea Photos', 'Acne and Rosacea Photos', 'Acne and Rosacea Photos', 'Acne and Rosacea Photos', 'Acne and Rosacea Photos', 'Acne and Rosacea Photos', 'Acne and Rosacea Photos', 'Acne and Rosacea Photos', 'Acne and Rosacea Photos', 'Acne and Rosacea Photos', 'Acne and Rosacea Photos', 'Acne and Rosacea Photos', 'Acne and Rosacea Photos', 'Acne and Rosacea Photos', 'Acne and Rosacea Photos', 'Acne and Rosacea Photos', 'Acne and Rosacea Photos', 'Acne and Rosacea Photos', 'Acne and Rosacea Photos', 'Acne and Rosacea Photos', 'Acne and Rosacea Photos', 'Acne and Rosacea Photos', 'Acne and Rosacea Photos', 'Acne and Rosacea Photos', 'Acne and Rosacea Photos', 'Acne and Rosacea Photos', 'Acne and Rosacea Photos', 'Acne and Rosacea Photos', 'Acne and Rosacea Photos', 'Acne and Rosacea Photos', 'Acne and Rosacea Photos', 'Acne and Rosacea Photos', 'Acne and Rosacea Photos', 'Acne and Rosacea Photos', 'Acne and Rosacea Photos', 'Acne and Rosacea Photos', 'Acne and Rosacea Photos', 'Acne and Rosacea Photos', 'Acne and Rosacea Photos', 'Acne and Rosacea Photos', 'Acne and Rosacea Photos', 'Acne and Rosacea Photos', 'Acne and Rosacea Photos', 'Acne and Rosacea Photos', 'Acne and Rosacea Photos', 'Acne and Rosacea Photos', 'Acne and Rosacea Photos', 'Acne and Rosacea Photos', 'Acne and Rosacea Photos', 'Acne and Rosacea Photos', 'Acne and Rosacea Photos', 'Acne and Rosacea Photos', 'Acne and Rosacea Photos', 'Acne and Rosacea Photos', 'Acne and Rosacea Photos', 'Acne and Rosacea Photos', 'Acne and Rosacea Photos', 'Acne and Rosacea Photos', 'Acne and Rosacea Photos', 'Acne and Rosacea Photos', 'Acne and Rosacea Photos', 'Acne and Rosacea Photos', 'Acne and Rosacea Photos', 'Acne and Rosacea Photos', 'Acne and Rosacea Photos', 'Acne and Rosacea Photos', 'Acne and Rosacea Photos', 'Acne and Rosacea Photos', 'Acne and Rosacea Photos', 'Acne and Rosacea Photos', 'Acne and Rosacea Photos', 'Acne and Rosacea Photos', 'Acne and Rosacea Photos', 'Acne and Rosacea Photos', 'Acne and Rosacea Photos', 'Acne and Rosacea Photos', 'Acne and Rosacea Photos', 'Acne and Rosacea Photos', 'Acne and Rosacea Photos', 'Acne and Rosacea Photos', 'Acne and Rosacea Photos', 'Acne and Rosacea Photos', 'Acne and Rosacea Photos', 'Acne and Rosacea Photos', 'Acne and Rosacea Photos', 'Acne and Rosacea Photos', 'Acne and Rosacea Photos', 'Acne and Rosacea Photos', 'Acne and Rosacea Photos', 'Acne and Rosacea Photos', 'Acne and Rosacea Photos', 'Acne and Rosacea Photos', 'Acne and Rosacea Photos', 'Acne and Rosacea Photos', 'Acne and Rosacea Photos', 'Acne and Rosacea Photos', 'Acne and Rosacea Photos', 'Acne and Rosacea Photos', 'Acne and Rosacea Photos', 'Acne and Rosacea Photos', 'Acne and Rosacea Photos', 'Acne and Rosacea Photos', 'Acne and Rosacea Photos', 'Acne and Rosacea Photos', 'Acne and Rosacea Photos', 'Acne and Rosacea Photos', 'Acne and Rosacea Photos', 'Acne and Rosacea Photos', 'Acne and Rosacea Photos', 'Acne and Rosacea Photos', 'Acne and Rosacea Photos', 'Acne and Rosacea Photos', 'Acne and Rosacea Photos', 'Acne and Rosacea Photos', 'Acne and Rosacea Photos', 'Acne and Rosacea Photos', 'Acne and Rosacea Photos', 'Acne and Rosacea Photos', 'Acne and Rosacea Photos', 'Acne and Rosacea Photos', 'Acne and Rosacea Photos', 'Acne and Rosacea Photos', 'Acne and Rosacea Photos', 'Acne and Rosacea Photos', 'Acne and Rosacea Photos', 'Acne and Rosacea Photos', 'Acne and Rosacea Photos', 'Acne and Rosacea Photos', 'Acne and Rosacea Photos', 'Acne and Rosacea Photos', 'Acne and Rosacea Photos', 'Acne and Rosacea Photos', 'Acne and Rosacea Photos', 'Acne and Rosacea Photos', 'Acne and Rosacea Photos', 'Acne and Rosacea Photos', 'Acne and Rosacea Photos', 'Acne and Rosacea Photos', 'Acne and Rosacea Photos', 'Acne and Rosacea Photos', 'Acne and Rosacea Photos', 'Acne and Rosacea Photos', 'Acne and Rosacea Photos', 'Acne and Rosacea Photos', 'Actinic Keratosis Basal Cell Carcinoma and other Malignant Lesions', 'Actinic Keratosis Basal Cell Carcinoma and other Malignant Lesions', 'Actinic Keratosis Basal Cell Carcinoma and other Malignant Lesions', 'Actinic Keratosis Basal Cell Carcinoma and other Malignant Lesions', 'Actinic Keratosis Basal Cell Carcinoma and other Malignant Lesions', 'Actinic Keratosis Basal Cell Carcinoma and other Malignant Lesions', 'Actinic Keratosis Basal Cell Carcinoma and other Malignant Lesions', 'Actinic Keratosis Basal Cell Carcinoma and other Malignant Lesions', 'Actinic Keratosis Basal Cell Carcinoma and other Malignant Lesions', 'Actinic Keratosis Basal Cell Carcinoma and other Malignant Lesions', 'Actinic Keratosis Basal Cell Carcinoma and other Malignant Lesions', 'Actinic Keratosis Basal Cell Carcinoma and other Malignant Lesions', 'Actinic Keratosis Basal Cell Carcinoma and other Malignant Lesions', 'Actinic Keratosis Basal Cell Carcinoma and other Malignant Lesions', 'Actinic Keratosis Basal Cell Carcinoma and other Malignant Lesions', 'Actinic Keratosis Basal Cell Carcinoma and other Malignant Lesions', 'Actinic Keratosis Basal Cell Carcinoma and other Malignant Lesions', 'Actinic Keratosis Basal Cell Carcinoma and other Malignant Lesions', 'Actinic Keratosis Basal Cell Carcinoma and other Malignant Lesions', 'Actinic Keratosis Basal Cell Carcinoma and other Malignant Lesions', 'Actinic Keratosis Basal Cell Carcinoma and other Malignant Lesions', 'Actinic Keratosis Basal Cell Carcinoma and other Malignant Lesions', 'Actinic Keratosis Basal Cell Carcinoma and other Malignant Lesions', 'Actinic Keratosis Basal Cell Carcinoma and other Malignant Lesions', 'Actinic Keratosis Basal Cell Carcinoma and other Malignant Lesions', 'Actinic Keratosis Basal Cell Carcinoma and other Malignant Lesions', 'Actinic Keratosis Basal Cell Carcinoma and other Malignant Lesions', 'Actinic Keratosis Basal Cell Carcinoma and other Malignant Lesions', 'Actinic Keratosis Basal Cell Carcinoma and other Malignant Lesions', 'Actinic Keratosis Basal Cell Carcinoma and other Malignant Lesions', 'Actinic Keratosis Basal Cell Carcinoma and other Malignant Lesions', 'Actinic Keratosis Basal Cell Carcinoma and other Malignant Lesions', 'Actinic Keratosis Basal Cell Carcinoma and other Malignant Lesions', 'Actinic Keratosis Basal Cell Carcinoma and other Malignant Lesions', 'Actinic Keratosis Basal Cell Carcinoma and other Malignant Lesions', 'Actinic Keratosis Basal Cell Carcinoma and other Malignant Lesions', 'Actinic Keratosis Basal Cell Carcinoma and other Malignant Lesions', 'Actinic Keratosis Basal Cell Carcinoma and other Malignant Lesions', 'Actinic Keratosis Basal Cell Carcinoma and other Malignant Lesions', 'Actinic Keratosis Basal Cell Carcinoma and other Malignant Lesions', 'Actinic Keratosis Basal Cell Carcinoma and other Malignant Lesions', 'Actinic Keratosis Basal Cell Carcinoma and other Malignant Lesions', 'Actinic Keratosis Basal Cell Carcinoma and other Malignant Lesions', 'Actinic Keratosis Basal Cell Carcinoma and other Malignant Lesions', 'Actinic Keratosis Basal Cell Carcinoma and other Malignant Lesions', 'Actinic Keratosis Basal Cell Carcinoma and other Malignant Lesions', 'Actinic Keratosis Basal Cell Carcinoma and other Malignant Lesions', 'Actinic Keratosis Basal Cell Carcinoma and other Malignant Lesions', 'Actinic Keratosis Basal Cell Carcinoma and other Malignant Lesions', 'Actinic Keratosis Basal Cell Carcinoma and other Malignant Lesions', 'Actinic Keratosis Basal Cell Carcinoma and other Malignant Lesions', 'Actinic Keratosis Basal Cell Carcinoma and other Malignant Lesions', 'Actinic Keratosis Basal Cell Carcinoma and other Malignant Lesions', 'Actinic Keratosis Basal Cell Carcinoma and other Malignant Lesions', 'Actinic Keratosis Basal Cell Carcinoma and other Malignant Lesions', 'Actinic Keratosis Basal Cell Carcinoma and other Malignant Lesions', 'Actinic Keratosis Basal Cell Carcinoma and other Malignant Lesions', 'Actinic Keratosis Basal Cell Carcinoma and other Malignant Lesions', 'Actinic Keratosis Basal Cell Carcinoma and other Malignant Lesions', 'Actinic Keratosis Basal Cell Carcinoma and other Malignant Lesions', 'Actinic Keratosis Basal Cell Carcinoma and other Malignant Lesions', 'Actinic Keratosis Basal Cell Carcinoma and other Malignant Lesions', 'Actinic Keratosis Basal Cell Carcinoma and other Malignant Lesions', 'Actinic Keratosis Basal Cell Carcinoma and other Malignant Lesions', 'Actinic Keratosis Basal Cell Carcinoma and other Malignant Lesions', 'Actinic Keratosis Basal Cell Carcinoma and other Malignant Lesions', 'Actinic Keratosis Basal Cell Carcinoma and other Malignant Lesions', 'Actinic Keratosis Basal Cell Carcinoma and other Malignant Lesions', 'Actinic Keratosis Basal Cell Carcinoma and other Malignant Lesions', 'Actinic Keratosis Basal Cell Carcinoma and other Malignant Lesions', 'Actinic Keratosis Basal Cell Carcinoma and other Malignant Lesions', 'Actinic Keratosis Basal Cell Carcinoma and other Malignant Lesions', 'Actinic Keratosis Basal Cell Carcinoma and other Malignant Lesions', 'Actinic Keratosis Basal Cell Carcinoma and other Malignant Lesions', 'Actinic Keratosis Basal Cell Carcinoma and other Malignant Lesions', 'Actinic Keratosis Basal Cell Carcinoma and other Malignant Lesions', 'Actinic Keratosis Basal Cell Carcinoma and other Malignant Lesions', 'Actinic Keratosis Basal Cell Carcinoma and other Malignant Lesions', 'Actinic Keratosis Basal Cell Carcinoma and other Malignant Lesions', 'Actinic Keratosis Basal Cell Carcinoma and other Malignant Lesions', 'Actinic Keratosis Basal Cell Carcinoma and other Malignant Lesions', 'Actinic Keratosis Basal Cell Carcinoma and other Malignant Lesions', 'Actinic Keratosis Basal Cell Carcinoma and other Malignant Lesions', 'Actinic Keratosis Basal Cell Carcinoma and other Malignant Lesions', 'Actinic Keratosis Basal Cell Carcinoma and other Malignant Lesions', 'Actinic Keratosis Basal Cell Carcinoma and other Malignant Lesions', 'Actinic Keratosis Basal Cell Carcinoma and other Malignant Lesions', 'Actinic Keratosis Basal Cell Carcinoma and other Malignant Lesions', 'Actinic Keratosis Basal Cell Carcinoma and other Malignant Lesions', 'Actinic Keratosis Basal Cell Carcinoma and other Malignant Lesions', 'Actinic Keratosis Basal Cell Carcinoma and other Malignant Lesions', 'Actinic Keratosis Basal Cell Carcinoma and other Malignant Lesions', 'Actinic Keratosis Basal Cell Carcinoma and other Malignant Lesions', 'Actinic Keratosis Basal Cell Carcinoma and other Malignant Lesions', 'Actinic Keratosis Basal Cell Carcinoma and other Malignant Lesions', 'Actinic Keratosis Basal Cell Carcinoma and other Malignant Lesions', 'Actinic Keratosis Basal Cell Carcinoma and other Malignant Lesions', 'Actinic Keratosis Basal Cell Carcinoma and other Malignant Lesions', 'Actinic Keratosis Basal Cell Carcinoma and other Malignant Lesions', 'Actinic Keratosis Basal Cell Carcinoma and other Malignant Lesions', 'Actinic Keratosis Basal Cell Carcinoma and other Malignant Lesions', 'Actinic Keratosis Basal Cell Carcinoma and other Malignant Lesions', 'Actinic Keratosis Basal Cell Carcinoma and other Malignant Lesions', 'Actinic Keratosis Basal Cell Carcinoma and other Malignant Lesions', 'Actinic Keratosis Basal Cell Carcinoma and other Malignant Lesions', 'Actinic Keratosis Basal Cell Carcinoma and other Malignant Lesions', 'Actinic Keratosis Basal Cell Carcinoma and other Malignant Lesions', 'Actinic Keratosis Basal Cell Carcinoma and other Malignant Lesions', 'Actinic Keratosis Basal Cell Carcinoma and other Malignant Lesions', 'Actinic Keratosis Basal Cell Carcinoma and other Malignant Lesions', 'Actinic Keratosis Basal Cell Carcinoma and other Malignant Lesions', 'Actinic Keratosis Basal Cell Carcinoma and other Malignant Lesions', 'Actinic Keratosis Basal Cell Carcinoma and other Malignant Lesions', 'Actinic Keratosis Basal Cell Carcinoma and other Malignant Lesions', 'Actinic Keratosis Basal Cell Carcinoma and other Malignant Lesions', 'Actinic Keratosis Basal Cell Carcinoma and other Malignant Lesions', 'Actinic Keratosis Basal Cell Carcinoma and other Malignant Lesions', 'Actinic Keratosis Basal Cell Carcinoma and other Malignant Lesions', 'Actinic Keratosis Basal Cell Carcinoma and other Malignant Lesions', 'Actinic Keratosis Basal Cell Carcinoma and other Malignant Lesions', 'Actinic Keratosis Basal Cell Carcinoma and other Malignant Lesions', 'Actinic Keratosis Basal Cell Carcinoma and other Malignant Lesions', 'Actinic Keratosis Basal Cell Carcinoma and other Malignant Lesions', 'Actinic Keratosis Basal Cell Carcinoma and other Malignant Lesions', 'Actinic Keratosis Basal Cell Carcinoma and other Malignant Lesions', 'Actinic Keratosis Basal Cell Carcinoma and other Malignant Lesions', 'Actinic Keratosis Basal Cell Carcinoma and other Malignant Lesions', 'Actinic Keratosis Basal Cell Carcinoma and other Malignant Lesions', 'Actinic Keratosis Basal Cell Carcinoma and other Malignant Lesions', 'Actinic Keratosis Basal Cell Carcinoma and other Malignant Lesions', 'Actinic Keratosis Basal Cell Carcinoma and other Malignant Lesions', 'Actinic Keratosis Basal Cell Carcinoma and other Malignant Lesions', 'Actinic Keratosis Basal Cell Carcinoma and other Malignant Lesions', 'Actinic Keratosis Basal Cell Carcinoma and other Malignant Lesions', 'Actinic Keratosis Basal Cell Carcinoma and other Malignant Lesions', 'Actinic Keratosis Basal Cell Carcinoma and other Malignant Lesions', 'Actinic Keratosis Basal Cell Carcinoma and other Malignant Lesions', 'Actinic Keratosis Basal Cell Carcinoma and other Malignant Lesions', 'Actinic Keratosis Basal Cell Carcinoma and other Malignant Lesions', 'Actinic Keratosis Basal Cell Carcinoma and other Malignant Lesions', 'Actinic Keratosis Basal Cell Carcinoma and other Malignant Lesions', 'Actinic Keratosis Basal Cell Carcinoma and other Malignant Lesions', 'Actinic Keratosis Basal Cell Carcinoma and other Malignant Lesions', 'Actinic Keratosis Basal Cell Carcinoma and other Malignant Lesions', 'Actinic Keratosis Basal Cell Carcinoma and other Malignant Lesions', 'Actinic Keratosis Basal Cell Carcinoma and other Malignant Lesions', 'Actinic Keratosis Basal Cell Carcinoma and other Malignant Lesions', 'Actinic Keratosis Basal Cell Carcinoma and other Malignant Lesions', 'Actinic Keratosis Basal Cell Carcinoma and other Malignant Lesions', 'Actinic Keratosis Basal Cell Carcinoma and other Malignant Lesions', 'Actinic Keratosis Basal Cell Carcinoma and other Malignant Lesions', 'Actinic Keratosis Basal Cell Carcinoma and other Malignant Lesions', 'Actinic Keratosis Basal Cell Carcinoma and other Malignant Lesions', 'Actinic Keratosis Basal Cell Carcinoma and other Malignant Lesions', 'Actinic Keratosis Basal Cell Carcinoma and other Malignant Lesions', 'Actinic Keratosis Basal Cell Carcinoma and other Malignant Lesions', 'Actinic Keratosis Basal Cell Carcinoma and other Malignant Lesions', 'Actinic Keratosis Basal Cell Carcinoma and other Malignant Lesions', 'Actinic Keratosis Basal Cell Carcinoma and other Malignant Lesions', 'Actinic Keratosis Basal Cell Carcinoma and other Malignant Lesions', 'Actinic Keratosis Basal Cell Carcinoma and other Malignant Lesions', 'Actinic Keratosis Basal Cell Carcinoma and other Malignant Lesions', 'Actinic Keratosis Basal Cell Carcinoma and other Malignant Lesions', 'Actinic Keratosis Basal Cell Carcinoma and other Malignant Lesions', 'Actinic Keratosis Basal Cell Carcinoma and other Malignant Lesions', 'Actinic Keratosis Basal Cell Carcinoma and other Malignant Lesions', 'Actinic Keratosis Basal Cell Carcinoma and other Malignant Lesions', 'Actinic Keratosis Basal Cell Carcinoma and other Malignant Lesions', 'Actinic Keratosis Basal Cell Carcinoma and other Malignant Lesions', 'Actinic Keratosis Basal Cell Carcinoma and other Malignant Lesions', 'Actinic Keratosis Basal Cell Carcinoma and other Malignant Lesions', 'Actinic Keratosis Basal Cell Carcinoma and other Malignant Lesions', 'Actinic Keratosis Basal Cell Carcinoma and other Malignant Lesions', 'Actinic Keratosis Basal Cell Carcinoma and other Malignant Lesions', 'Actinic Keratosis Basal Cell Carcinoma and other Malignant Lesions', 'Actinic Keratosis Basal Cell Carcinoma and other Malignant Lesions', 'Actinic Keratosis Basal Cell Carcinoma and other Malignant Lesions', 'Actinic Keratosis Basal Cell Carcinoma and other Malignant Lesions', 'Actinic Keratosis Basal Cell Carcinoma and other Malignant Lesions', 'Actinic Keratosis Basal Cell Carcinoma and other Malignant Lesions', 'Actinic Keratosis Basal Cell Carcinoma and other Malignant Lesions', 'Actinic Keratosis Basal Cell Carcinoma and other Malignant Lesions', 'Actinic Keratosis Basal Cell Carcinoma and other Malignant Lesions', 'Actinic Keratosis Basal Cell Carcinoma and other Malignant Lesions', 'Actinic Keratosis Basal Cell Carcinoma and other Malignant Lesions', 'Actinic Keratosis Basal Cell Carcinoma and other Malignant Lesions', 'Actinic Keratosis Basal Cell Carcinoma and other Malignant Lesions', 'Actinic Keratosis Basal Cell Carcinoma and other Malignant Lesions', 'Actinic Keratosis Basal Cell Carcinoma and other Malignant Lesions', 'Actinic Keratosis Basal Cell Carcinoma and other Malignant Lesions', 'Actinic Keratosis Basal Cell Carcinoma and other Malignant Lesions', 'Actinic Keratosis Basal Cell Carcinoma and other Malignant Lesions', 'Actinic Keratosis Basal Cell Carcinoma and other Malignant Lesions', 'Actinic Keratosis Basal Cell Carcinoma and other Malignant Lesions', 'Actinic Keratosis Basal Cell Carcinoma and other Malignant Lesions', 'Actinic Keratosis Basal Cell Carcinoma and other Malignant Lesions', 'Actinic Keratosis Basal Cell Carcinoma and other Malignant Lesions', 'Actinic Keratosis Basal Cell Carcinoma and other Malignant Lesions', 'Actinic Keratosis Basal Cell Carcinoma and other Malignant Lesions', 'Actinic Keratosis Basal Cell Carcinoma and other Malignant Lesions', 'Actinic Keratosis Basal Cell Carcinoma and other Malignant Lesions', 'Actinic Keratosis Basal Cell Carcinoma and other Malignant Lesions', 'Actinic Keratosis Basal Cell Carcinoma and other Malignant Lesions', 'Actinic Keratosis Basal Cell Carcinoma and other Malignant Lesions', 'Actinic Keratosis Basal Cell Carcinoma and other Malignant Lesions', 'Actinic Keratosis Basal Cell Carcinoma and other Malignant Lesions', 'Actinic Keratosis Basal Cell Carcinoma and other Malignant Lesions', 'Actinic Keratosis Basal Cell Carcinoma and other Malignant Lesions', 'Actinic Keratosis Basal Cell Carcinoma and other Malignant Lesions', 'Actinic Keratosis Basal Cell Carcinoma and other Malignant Lesions', 'Actinic Keratosis Basal Cell Carcinoma and other Malignant Lesions', 'Actinic Keratosis Basal Cell Carcinoma and other Malignant Lesions', 'Actinic Keratosis Basal Cell Carcinoma and other Malignant Lesions', 'Actinic Keratosis Basal Cell Carcinoma and other Malignant Lesions', 'Actinic Keratosis Basal Cell Carcinoma and other Malignant Lesions', 'Actinic Keratosis Basal Cell Carcinoma and other Malignant Lesions', 'Actinic Keratosis Basal Cell Carcinoma and other Malignant Lesions', 'Actinic Keratosis Basal Cell Carcinoma and other Malignant Lesions', 'Actinic Keratosis Basal Cell Carcinoma and other Malignant Lesions', 'Actinic Keratosis Basal Cell Carcinoma and other Malignant Lesions', 'Actinic Keratosis Basal Cell Carcinoma and other Malignant Lesions', 'Actinic Keratosis Basal Cell Carcinoma and other Malignant Lesions', 'Actinic Keratosis Basal Cell Carcinoma and other Malignant Lesions', 'Actinic Keratosis Basal Cell Carcinoma and other Malignant Lesions', 'Actinic Keratosis Basal Cell Carcinoma and other Malignant Lesions', 'Actinic Keratosis Basal Cell Carcinoma and other Malignant Lesions', 'Actinic Keratosis Basal Cell Carcinoma and other Malignant Lesions', 'Actinic Keratosis Basal Cell Carcinoma and other Malignant Lesions', 'Actinic Keratosis Basal Cell Carcinoma and other Malignant Lesions', 'Actinic Keratosis Basal Cell Carcinoma and other Malignant Lesions', 'Actinic Keratosis Basal Cell Carcinoma and other Malignant Lesions', 'Actinic Keratosis Basal Cell Carcinoma and other Malignant Lesions', 'Actinic Keratosis Basal Cell Carcinoma and other Malignant Lesions', 'Actinic Keratosis Basal Cell Carcinoma and other Malignant Lesions', 'Actinic Keratosis Basal Cell Carcinoma and other Malignant Lesions', 'Actinic Keratosis Basal Cell Carcinoma and other Malignant Lesions', 'Actinic Keratosis Basal Cell Carcinoma and other Malignant Lesions', 'Actinic Keratosis Basal Cell Carcinoma and other Malignant Lesions', 'Actinic Keratosis Basal Cell Carcinoma and other Malignant Lesions', 'Actinic Keratosis Basal Cell Carcinoma and other Malignant Lesions', 'Actinic Keratosis Basal Cell Carcinoma and other Malignant Lesions', 'Actinic Keratosis Basal Cell Carcinoma and other Malignant Lesions', 'Actinic Keratosis Basal Cell Carcinoma and other Malignant Lesions', 'Actinic Keratosis Basal Cell Carcinoma and other Malignant Lesions', 'Actinic Keratosis Basal Cell Carcinoma and other Malignant Lesions', 'Actinic Keratosis Basal Cell Carcinoma and other Malignant Lesions', 'Actinic Keratosis Basal Cell Carcinoma and other Malignant Lesions', 'Actinic Keratosis Basal Cell Carcinoma and other Malignant Lesions', 'Actinic Keratosis Basal Cell Carcinoma and other Malignant Lesions', 'Actinic Keratosis Basal Cell Carcinoma and other Malignant Lesions', 'Actinic Keratosis Basal Cell Carcinoma and other Malignant Lesions', 'Actinic Keratosis Basal Cell Carcinoma and other Malignant Lesions', 'Actinic Keratosis Basal Cell Carcinoma and other Malignant Lesions', 'Actinic Keratosis Basal Cell Carcinoma and other Malignant Lesions', 'Actinic Keratosis Basal Cell Carcinoma and other Malignant Lesions', 'Actinic Keratosis Basal Cell Carcinoma and other Malignant Lesions', 'Actinic Keratosis Basal Cell Carcinoma and other Malignant Lesions', 'Actinic Keratosis Basal Cell Carcinoma and other Malignant Lesions', 'Actinic Keratosis Basal Cell Carcinoma and other Malignant Lesions', 'Actinic Keratosis Basal Cell Carcinoma and other Malignant Lesions', 'Actinic Keratosis Basal Cell Carcinoma and other Malignant Lesions', 'Actinic Keratosis Basal Cell Carcinoma and other Malignant Lesions', 'Actinic Keratosis Basal Cell Carcinoma and other Malignant Lesions', 'Actinic Keratosis Basal Cell Carcinoma and other Malignant Lesions', 'Actinic Keratosis Basal Cell Carcinoma and other Malignant Lesions', 'Actinic Keratosis Basal Cell Carcinoma and other Malignant Lesions', 'Actinic Keratosis Basal Cell Carcinoma and other Malignant Lesions', 'Actinic Keratosis Basal Cell Carcinoma and other Malignant Lesions', 'Actinic Keratosis Basal Cell Carcinoma and other Malignant Lesions', 'Actinic Keratosis Basal Cell Carcinoma and other Malignant Lesions', 'Actinic Keratosis Basal Cell Carcinoma and other Malignant Lesions', 'Actinic Keratosis Basal Cell Carcinoma and other Malignant Lesions', 'Actinic Keratosis Basal Cell Carcinoma and other Malignant Lesions', 'Actinic Keratosis Basal Cell Carcinoma and other Malignant Lesions', 'Actinic Keratosis Basal Cell Carcinoma and other Malignant Lesions', 'Actinic Keratosis Basal Cell Carcinoma and other Malignant Lesions', 'Actinic Keratosis Basal Cell Carcinoma and other Malignant Lesions', 'Actinic Keratosis Basal Cell Carcinoma and other Malignant Lesions', 'Actinic Keratosis Basal Cell Carcinoma and other Malignant Lesions', 'Actinic Keratosis Basal Cell Carcinoma and other Malignant Lesions', 'Actinic Keratosis Basal Cell Carcinoma and other Malignant Lesions', 'Actinic Keratosis Basal Cell Carcinoma and other Malignant Lesions', 'Actinic Keratosis Basal Cell Carcinoma and other Malignant Lesions', 'Actinic Keratosis Basal Cell Carcinoma and other Malignant Lesions', 'Actinic Keratosis Basal Cell Carcinoma and other Malignant Lesions', 'Actinic Keratosis Basal Cell Carcinoma and other Malignant Lesions', 'Actinic Keratosis Basal Cell Carcinoma and other Malignant Lesions', 'Actinic Keratosis Basal Cell Carcinoma and other Malignant Lesions', 'Atopic Dermatitis Photos', 'Atopic Dermatitis Photos', 'Atopic Dermatitis Photos', 'Atopic Dermatitis Photos', 'Atopic Dermatitis Photos', 'Atopic Dermatitis Photos', 'Atopic Dermatitis Photos', 'Atopic Dermatitis Photos', 'Atopic Dermatitis Photos', 'Atopic Dermatitis Photos', 'Atopic Dermatitis Photos', 'Atopic Dermatitis Photos', 'Atopic Dermatitis Photos', 'Atopic Dermatitis Photos', 'Atopic Dermatitis Photos', 'Atopic Dermatitis Photos', 'Atopic Dermatitis Photos', 'Atopic Dermatitis Photos', 'Atopic Dermatitis Photos', 'Atopic Dermatitis Photos', 'Atopic Dermatitis Photos', 'Atopic Dermatitis Photos', 'Atopic Dermatitis Photos', 'Atopic Dermatitis Photos', 'Atopic Dermatitis Photos', 'Atopic Dermatitis Photos', 'Atopic Dermatitis Photos', 'Atopic Dermatitis Photos', 'Atopic Dermatitis Photos', 'Atopic Dermatitis Photos', 'Atopic Dermatitis Photos', 'Atopic Dermatitis Photos', 'Atopic Dermatitis Photos', 'Atopic Dermatitis Photos', 'Atopic Dermatitis Photos', 'Atopic Dermatitis Photos', 'Atopic Dermatitis Photos', 'Atopic Dermatitis Photos', 'Atopic Dermatitis Photos', 'Atopic Dermatitis Photos', 'Atopic Dermatitis Photos', 'Atopic Dermatitis Photos', 'Atopic Dermatitis Photos', 'Atopic Dermatitis Photos', 'Atopic Dermatitis Photos', 'Atopic Dermatitis Photos', 'Atopic Dermatitis Photos', 'Atopic Dermatitis Photos', 'Atopic Dermatitis Photos', 'Atopic Dermatitis Photos', 'Atopic Dermatitis Photos', 'Atopic Dermatitis Photos', 'Atopic Dermatitis Photos', 'Atopic Dermatitis Photos', 'Atopic Dermatitis Photos', 'Atopic Dermatitis Photos', 'Atopic Dermatitis Photos', 'Atopic Dermatitis Photos', 'Atopic Dermatitis Photos', 'Atopic Dermatitis Photos', 'Atopic Dermatitis Photos', 'Atopic Dermatitis Photos', 'Atopic Dermatitis Photos', 'Atopic Dermatitis Photos', 'Atopic Dermatitis Photos', 'Atopic Dermatitis Photos', 'Atopic Dermatitis Photos', 'Atopic Dermatitis Photos', 'Atopic Dermatitis Photos', 'Atopic Dermatitis Photos', 'Atopic Dermatitis Photos', 'Atopic Dermatitis Photos', 'Atopic Dermatitis Photos', 'Atopic Dermatitis Photos', 'Atopic Dermatitis Photos', 'Atopic Dermatitis Photos', 'Atopic Dermatitis Photos', 'Atopic Dermatitis Photos', 'Atopic Dermatitis Photos', 'Atopic Dermatitis Photos', 'Atopic Dermatitis Photos', 'Atopic Dermatitis Photos', 'Atopic Dermatitis Photos', 'Atopic Dermatitis Photos', 'Atopic Dermatitis Photos', 'Atopic Dermatitis Photos', 'Atopic Dermatitis Photos', 'Atopic Dermatitis Photos', 'Atopic Dermatitis Photos', 'Atopic Dermatitis Photos', 'Atopic Dermatitis Photos', 'Atopic Dermatitis Photos', 'Atopic Dermatitis Photos', 'Atopic Dermatitis Photos', 'Atopic Dermatitis Photos', 'Atopic Dermatitis Photos', 'Atopic Dermatitis Photos', 'Atopic Dermatitis Photos', 'Atopic Dermatitis Photos', 'Atopic Dermatitis Photos', 'Atopic Dermatitis Photos', 'Atopic Dermatitis Photos', 'Atopic Dermatitis Photos', 'Atopic Dermatitis Photos', 'Atopic Dermatitis Photos', 'Atopic Dermatitis Photos', 'Atopic Dermatitis Photos', 'Atopic Dermatitis Photos', 'Atopic Dermatitis Photos', 'Atopic Dermatitis Photos', 'Atopic Dermatitis Photos', 'Atopic Dermatitis Photos', 'Atopic Dermatitis Photos', 'Atopic Dermatitis Photos', 'Atopic Dermatitis Photos', 'Atopic Dermatitis Photos', 'Atopic Dermatitis Photos', 'Atopic Dermatitis Photos', 'Atopic Dermatitis Photos', 'Atopic Dermatitis Photos', 'Atopic Dermatitis Photos', 'Atopic Dermatitis Photos', 'Atopic Dermatitis Photos']\n"
          ]
        }
      ],
      "source": [
        "print(y_label_test)"
      ]
    },
    {
      "cell_type": "code",
      "execution_count": null,
      "metadata": {
        "id": "_3CIeASCSwI-"
      },
      "outputs": [],
      "source": [
        "## Import necessary libraries for Deep Learning\n",
        "from tensorflow.keras.models import Sequential\n",
        "from tensorflow.keras.layers import Conv2D ,MaxPooling2D ,Flatten ,Dropout ,Dense\n",
        "from keras.utils import to_categorical\n",
        "import keras"
      ]
    },
    {
      "cell_type": "code",
      "execution_count": null,
      "metadata": {
        "id": "N8645Ou8S9BN"
      },
      "outputs": [],
      "source": [
        "# len(lab)"
      ]
    },
    {
      "cell_type": "code",
      "execution_count": null,
      "metadata": {
        "colab": {
          "base_uri": "https://localhost:8080/"
        },
        "id": "cvxncl35Qwo_",
        "outputId": "cc9c50da-3001-44bd-f5fb-c38fbe2ff8b8"
      },
      "outputs": [
        {
          "output_type": "stream",
          "name": "stdout",
          "text": [
            "Model: \"sequential_1\"\n",
            "_________________________________________________________________\n",
            " Layer (type)                Output Shape              Param #   \n",
            "=================================================================\n",
            " conv2d_2 (Conv2D)           (None, 222, 222, 32)      896       \n",
            "                                                                 \n",
            " max_pooling2d_2 (MaxPooling  (None, 111, 111, 32)     0         \n",
            " 2D)                                                             \n",
            "                                                                 \n",
            " conv2d_3 (Conv2D)           (None, 109, 109, 12)      3468      \n",
            "                                                                 \n",
            " max_pooling2d_3 (MaxPooling  (None, 54, 54, 12)       0         \n",
            " 2D)                                                             \n",
            "                                                                 \n",
            " flatten_1 (Flatten)         (None, 34992)             0         \n",
            "                                                                 \n",
            " dense_3 (Dense)             (None, 132)               4619076   \n",
            "                                                                 \n",
            " dense_4 (Dense)             (None, 64)                8512      \n",
            "                                                                 \n",
            " dense_5 (Dense)             (None, 3)                 195       \n",
            "                                                                 \n",
            "=================================================================\n",
            "Total params: 4,632,147\n",
            "Trainable params: 4,632,147\n",
            "Non-trainable params: 0\n",
            "_________________________________________________________________\n"
          ]
        }
      ],
      "source": [
        "\n",
        "model=Sequential()\n",
        "\n",
        "model.add(Conv2D(32,(3,3),activation='relu',input_shape=(224,224,3)))\n",
        "\n",
        "model.add(MaxPooling2D(2,2))\n",
        "\n",
        "model.add(Conv2D(12,(3,3),activation='relu'))\n",
        "\n",
        "model.add(MaxPooling2D(2,2))\n",
        "\n",
        "model.add(Flatten())\n",
        "model.add(Dense(132,activation='relu'))\n",
        "\n",
        "# model.add(Dropout(0.2))\n",
        "\n",
        "model.add(Dense(64,activation='relu'))\n",
        "\n",
        "# model.add(Dense(64,activation='relu'))\n",
        "\n",
        "model.add(Dense(len(lab.classes_),activation='softmax'))\n",
        "\n",
        "model.compile(loss='categorical_crossentropy',optimizer='adam', metrics=['accuracy'])\n",
        "model.summary()"
      ]
    },
    {
      "cell_type": "code",
      "execution_count": null,
      "metadata": {
        "colab": {
          "base_uri": "https://localhost:8080/"
        },
        "id": "ShBCP6hsQwx8",
        "outputId": "f8cb86da-92d8-4d5c-a174-fe68178c9e87"
      },
      "outputs": [
        {
          "output_type": "stream",
          "name": "stdout",
          "text": [
            "Epoch 1/10\n",
            "184/184 [==============================] - 8s 23ms/step - loss: 3.1384 - accuracy: 0.5426 - val_loss: 2.1370 - val_accuracy: 0.0857\n",
            "Epoch 2/10\n",
            "184/184 [==============================] - 3s 16ms/step - loss: 0.7192 - accuracy: 0.6733 - val_loss: 2.3321 - val_accuracy: 0.1918\n",
            "Epoch 3/10\n",
            "184/184 [==============================] - 3s 16ms/step - loss: 0.4757 - accuracy: 0.7863 - val_loss: 5.5881 - val_accuracy: 0.1510\n",
            "Epoch 4/10\n",
            "184/184 [==============================] - 3s 16ms/step - loss: 0.3543 - accuracy: 0.8557 - val_loss: 5.9642 - val_accuracy: 0.2000\n",
            "Epoch 5/10\n",
            "184/184 [==============================] - 3s 18ms/step - loss: 0.3630 - accuracy: 0.8534 - val_loss: 6.2033 - val_accuracy: 0.2735\n",
            "Epoch 6/10\n",
            "184/184 [==============================] - 3s 17ms/step - loss: 0.2321 - accuracy: 0.9170 - val_loss: 10.5365 - val_accuracy: 0.1673\n",
            "Epoch 7/10\n",
            "184/184 [==============================] - 3s 16ms/step - loss: 0.1932 - accuracy: 0.9383 - val_loss: 11.7338 - val_accuracy: 0.1306\n",
            "Epoch 8/10\n",
            "184/184 [==============================] - 3s 16ms/step - loss: 0.2999 - accuracy: 0.8784 - val_loss: 15.4353 - val_accuracy: 0.1551\n",
            "Epoch 9/10\n",
            "184/184 [==============================] - 3s 17ms/step - loss: 0.2335 - accuracy: 0.9083 - val_loss: 10.7120 - val_accuracy: 0.2286\n",
            "Epoch 10/10\n",
            "184/184 [==============================] - 4s 20ms/step - loss: 0.1894 - accuracy: 0.9242 - val_loss: 10.6234 - val_accuracy: 0.2245\n"
          ]
        },
        {
          "output_type": "execute_result",
          "data": {
            "text/plain": [
              "<keras.callbacks.History at 0x7cb5ec1b8400>"
            ]
          },
          "metadata": {},
          "execution_count": 16
        }
      ],
      "source": [
        "\n",
        "y_train_encoded = to_categorical(y1)\n",
        "y_test_encoded = to_categorical(y2_test)\n",
        "\n",
        "model.fit(X,y_train_encoded, batch_size=12, epochs=10 , validation_split = 0.1)"
      ]
    },
    {
      "cell_type": "code",
      "execution_count": null,
      "metadata": {
        "id": "8nwvrKGJ-DjF"
      },
      "outputs": [],
      "source": []
    },
    {
      "cell_type": "code",
      "execution_count": null,
      "metadata": {
        "colab": {
          "base_uri": "https://localhost:8080/"
        },
        "id": "Is3uFYSbQw5O",
        "outputId": "f7ede363-420f-43f0-b384-5bd5e1715ad3"
      },
      "outputs": [
        {
          "output_type": "stream",
          "name": "stdout",
          "text": [
            "23/23 [==============================] - 0s 14ms/step\n"
          ]
        },
        {
          "output_type": "execute_result",
          "data": {
            "text/plain": [
              "0.7302904564315352"
            ]
          },
          "metadata": {},
          "execution_count": 17
        }
      ],
      "source": [
        "y_preds = model.predict(X_test)\n",
        "y_preds_argmax = np.argmax(y_preds ,axis = 1)\n",
        "accuracy_score(y2_test ,y_preds_argmax)"
      ]
    },
    {
      "cell_type": "code",
      "execution_count": null,
      "metadata": {
        "colab": {
          "base_uri": "https://localhost:8080/"
        },
        "id": "1ZB8uIYwQxE5",
        "outputId": "ef01fb03-7f2b-411f-b169-2bb529455c64"
      },
      "outputs": [
        {
          "output_type": "execute_result",
          "data": {
            "text/plain": [
              "array([[294,  16,   2],\n",
              "       [ 64, 199,  25],\n",
              "       [ 40,  48,  35]])"
            ]
          },
          "metadata": {},
          "execution_count": 18
        }
      ],
      "source": [
        "## Print confusion matrix\n",
        "confusion_matrix(y2_test ,y_preds_argmax)\n"
      ]
    },
    {
      "cell_type": "code",
      "execution_count": null,
      "metadata": {
        "colab": {
          "base_uri": "https://localhost:8080/"
        },
        "id": "DGQn3rfoQxMC",
        "outputId": "ee0d3d39-014d-4a16-fb3f-d40b01b19dd0"
      },
      "outputs": [
        {
          "output_type": "stream",
          "name": "stdout",
          "text": [
            "              precision    recall  f1-score   support\n",
            "\n",
            "           0       0.74      0.94      0.83       312\n",
            "           1       0.76      0.69      0.72       288\n",
            "           2       0.56      0.28      0.38       123\n",
            "\n",
            "    accuracy                           0.73       723\n",
            "   macro avg       0.69      0.64      0.64       723\n",
            "weighted avg       0.72      0.73      0.71       723\n",
            "\n"
          ]
        }
      ],
      "source": [
        "print(classification_report(y2_test ,y_preds_argmax))"
      ]
    },
    {
      "cell_type": "code",
      "execution_count": null,
      "metadata": {
        "colab": {
          "base_uri": "https://localhost:8080/"
        },
        "id": "Ifu92LNUQxSw",
        "outputId": "e6d108fe-b866-4859-e0ba-47cfb47605fa"
      },
      "outputs": [
        {
          "data": {
            "text/plain": [
              "['/content/drive/MyDrive/Colab Notebooks/Navttc Final Project/encoder.pkl']"
            ]
          },
          "execution_count": 10,
          "metadata": {},
          "output_type": "execute_result"
        }
      ],
      "source": [
        "joblib.dump (model,\"/content/drive/MyDrive/Colab Notebooks/Navttc Final Project/model.pkl\")\n",
        "joblib.dump (lab,\"/content/drive/MyDrive/Colab Notebooks/Navttc Final Project/encoder.pkl\")"
      ]
    },
    {
      "cell_type": "markdown",
      "source": [
        "# Deployment code"
      ],
      "metadata": {
        "id": "yvBpuNFywiji"
      }
    },
    {
      "cell_type": "code",
      "execution_count": null,
      "metadata": {
        "colab": {
          "base_uri": "https://localhost:8080/",
          "height": 70
        },
        "id": "dTtLwVnXQxaD",
        "outputId": "ab84ec0d-1f77-41b8-9891-2e079529c29b"
      },
      "outputs": [
        {
          "name": "stdout",
          "output_type": "stream",
          "text": [
            "(224, 224, 3)\n",
            "1/1 [==============================] - 0s 146ms/step\n"
          ]
        },
        {
          "data": {
            "application/vnd.google.colaboratory.intrinsic+json": {
              "type": "string"
            },
            "text/plain": [
              "'Acne and Rosacea Photos'"
            ]
          },
          "execution_count": 11,
          "metadata": {},
          "output_type": "execute_result"
        }
      ],
      "source": [
        "##deployment code\n",
        "\n",
        "model1 = joblib.load(\"/content/drive/MyDrive/Colab Notebooks/Navttc Final Project/model.pkl\")\n",
        "encoder = joblib.load(\"/content/drive/MyDrive/Colab Notebooks/Navttc Final Project/encoder.pkl\")\n",
        "\n",
        "image = cv2.imread(\"/content/drive/MyDrive/Colab Notebooks/Navttc Final Project/Datasets/test/Acne and Rosacea Photos/07PerioralDermEye.jpg\" ,cv2.IMREAD_UNCHANGED)\n",
        "resized_image = cv2.resize(image, (224,224))\n",
        "\n",
        "x = resized_image/10\n",
        "print(x.shape )\n",
        "y_preds = model1.predict(x.reshape(1,224,224,3))\n",
        "y_preds_argmax = np.argmax(y_preds)\n",
        "y_preds_argmax\n",
        "encoder.classes_[y_preds_argmax]"
      ]
    }
  ],
  "metadata": {
    "accelerator": "GPU",
    "colab": {
      "provenance": []
    },
    "kernelspec": {
      "display_name": "Python 3",
      "name": "python3"
    },
    "language_info": {
      "name": "python"
    }
  },
  "nbformat": 4,
  "nbformat_minor": 0
}